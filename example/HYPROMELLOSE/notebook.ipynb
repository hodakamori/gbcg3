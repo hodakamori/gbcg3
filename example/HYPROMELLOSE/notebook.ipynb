{
 "cells": [
  {
   "cell_type": "code",
   "execution_count": 1,
   "metadata": {},
   "outputs": [],
   "source": [
    "from gbcg3 import AA2CG"
   ]
  },
  {
   "cell_type": "code",
   "execution_count": 2,
   "metadata": {},
   "outputs": [
    {
     "name": "stderr",
     "output_type": "stream",
     "text": [
      "2023-07-16 08:52:52 [INFO] cgmapping.py:39 - Screening files\n",
      "2023-07-16 08:52:52 [INFO] aux.py:79 - # Extracting masses from sys.data ...\n",
      "2023-07-16 08:52:52 [INFO] aux.py:85 - # A total of 17 atom types reported!!!\n",
      "2023-07-16 08:52:52 [INFO] aux.py:92 - # Masses field found and recorded! Breaking from file...\n",
      "2023-07-16 08:52:52 [INFO] aux.py:103 - # Extracting topology from sys.data ...\n",
      "2023-07-16 08:52:52 [INFO] aux.py:109 - # A total of 106 bonds reported!!!\n",
      "2023-07-16 08:52:52 [INFO] aux.py:118 - # Bonds field found and recorded! Breaking from file...\n",
      "2023-07-16 08:52:52 [INFO] lammps.py:23 - # Total number of atoms to be assigned: 105\n",
      "2023-07-16 08:52:52 [INFO] lammps.py:44 - # Total number of molecules: 1\n",
      "2023-07-16 08:52:52 [INFO] lammps.py:49 - #---Number of atoms in mol 0: 105\n",
      "2023-07-16 08:52:52 [INFO] gbcg.py:124 - Reduction Summary for molecule 0\n",
      "\n",
      "\n",
      "2023-07-16 08:52:52 [INFO] core.py:667 - Initial Number of atoms: 105\n",
      "2023-07-16 08:52:52 [INFO] core.py:668 - # Beginning coarse-graining of molecule with 105 atoms\n",
      "2023-07-16 08:52:52 [INFO] core.py:694 - # Initial contraction of 58 atoms into 47 remaining groups\n",
      "2023-07-16 08:52:52 [INFO] core.py:699 - Initial contraction consists of 58 into 47 groups\n",
      "\n",
      "2023-07-16 08:52:52 [INFO] core.py:722 - Iteration 1\n",
      "2023-07-16 08:52:52 [INFO] core.py:723 - Reduction Round 1.\n",
      "2023-07-16 08:52:52 [INFO] core.py:724 - Initial number of groups: 47\n",
      "2023-07-16 08:52:52 [INFO] core.py:727 - # Examining nodes with degree equal to 2...\n",
      "2023-07-16 08:52:52 [INFO] core.py:730 - # There are 17 nodes in the queue...\n",
      "2023-07-16 08:52:52 [INFO] core.py:781 - # Queue is exhausted and vertex groups formed...\n",
      "2023-07-16 08:52:52 [INFO] core.py:782 - # There are currently 41 vertex groups...\n",
      "2023-07-16 08:52:52 [INFO] core.py:783 - Reduction at level 2 --> 41 groups\n",
      "2023-07-16 08:52:52 [INFO] core.py:722 - Iteration 2\n",
      "2023-07-16 08:52:52 [INFO] core.py:723 - Reduction Round 2.\n",
      "2023-07-16 08:52:52 [INFO] core.py:724 - Initial number of groups: 41\n",
      "2023-07-16 08:52:52 [INFO] core.py:727 - # Examining nodes with degree equal to 2...\n",
      "2023-07-16 08:52:52 [INFO] core.py:730 - # There are 11 nodes in the queue...\n",
      "2023-07-16 08:52:52 [INFO] core.py:781 - # Queue is exhausted and vertex groups formed...\n",
      "2023-07-16 08:52:52 [INFO] core.py:782 - # There are currently 39 vertex groups...\n",
      "2023-07-16 08:52:52 [INFO] core.py:783 - Reduction at level 2 --> 39 groups\n",
      "2023-07-16 08:52:52 [INFO] core.py:727 - # Examining nodes with degree equal to 3...\n",
      "2023-07-16 08:52:52 [INFO] core.py:730 - # There are 16 nodes in the queue...\n",
      "2023-07-16 08:52:52 [INFO] core.py:781 - # Queue is exhausted and vertex groups formed...\n",
      "2023-07-16 08:52:52 [INFO] core.py:782 - # There are currently 21 vertex groups...\n",
      "2023-07-16 08:52:52 [INFO] core.py:783 - Reduction at level 3 --> 21 groups\n",
      "2023-07-16 08:52:52 [INFO] core.py:722 - Iteration 3\n",
      "2023-07-16 08:52:52 [INFO] core.py:723 - Reduction Round 3.\n",
      "2023-07-16 08:52:52 [INFO] core.py:724 - Initial number of groups: 21\n",
      "2023-07-16 08:52:52 [INFO] core.py:727 - # Examining nodes with degree equal to 2...\n",
      "2023-07-16 08:52:52 [INFO] core.py:730 - # There are 11 nodes in the queue...\n",
      "2023-07-16 08:52:52 [INFO] core.py:781 - # Queue is exhausted and vertex groups formed...\n",
      "2023-07-16 08:52:52 [INFO] core.py:782 - # There are currently 14 vertex groups...\n",
      "2023-07-16 08:52:52 [INFO] core.py:783 - Reduction at level 2 --> 14 groups\n",
      "2023-07-16 08:52:52 [INFO] core.py:727 - # Examining nodes with degree equal to 3...\n",
      "2023-07-16 08:52:52 [INFO] core.py:730 - # There are 2 nodes in the queue...\n",
      "2023-07-16 08:52:52 [INFO] core.py:781 - # Queue is exhausted and vertex groups formed...\n",
      "2023-07-16 08:52:52 [INFO] core.py:782 - # There are currently 14 vertex groups...\n",
      "2023-07-16 08:52:52 [INFO] core.py:783 - Reduction at level 3 --> 14 groups\n",
      "2023-07-16 08:52:52 [INFO] core.py:722 - Iteration 4\n",
      "2023-07-16 08:52:52 [INFO] core.py:723 - Reduction Round 4.\n",
      "2023-07-16 08:52:52 [INFO] core.py:724 - Initial number of groups: 14\n",
      "2023-07-16 08:52:52 [INFO] core.py:727 - # Examining nodes with degree equal to 3...\n",
      "2023-07-16 08:52:52 [INFO] core.py:730 - # There are 2 nodes in the queue...\n",
      "2023-07-16 08:52:52 [INFO] core.py:781 - # Queue is exhausted and vertex groups formed...\n",
      "2023-07-16 08:52:52 [INFO] core.py:782 - # There are currently 9 vertex groups...\n",
      "2023-07-16 08:52:52 [INFO] core.py:783 - Reduction at level 3 --> 9 groups\n",
      "2023-07-16 08:52:52 [INFO] core.py:722 - Iteration 5\n",
      "2023-07-16 08:52:52 [INFO] core.py:723 - Reduction Round 5.\n",
      "2023-07-16 08:52:52 [INFO] core.py:724 - Initial number of groups: 9\n",
      "2023-07-16 08:52:52 [INFO] core.py:727 - # Examining nodes with degree equal to 4...\n",
      "2023-07-16 08:52:52 [INFO] core.py:730 - # There are 2 nodes in the queue...\n",
      "2023-07-16 08:52:52 [INFO] core.py:781 - # Queue is exhausted and vertex groups formed...\n",
      "2023-07-16 08:52:52 [INFO] core.py:782 - # There are currently 2 vertex groups...\n",
      "2023-07-16 08:52:52 [INFO] core.py:783 - Reduction at level 4 --> 2 groups\n",
      "2023-07-16 08:52:53 [INFO] gbcg.py:142 - Assigning preliminary CG site types\n",
      "2023-07-16 08:52:53 [INFO] gbcg.py:163 - Mapping supplied trajectories\n",
      "2023-07-16 08:52:53 [INFO] gbcg.py:170 - Mapping supplied trajectories\n",
      "2023-07-16 08:52:53 [INFO] cgmapping.py:69 - Wrapping up...\n"
     ]
    },
    {
     "name": "stdout",
     "output_type": "stream",
     "text": [
      "# Charge for molecule 0: 0.0\n"
     ]
    }
   ],
   "source": [
    "aa2cg = AA2CG(\n",
    "        traj=[\"atom.lammpstrj\"],\n",
    "        data=\"sys.data\",\n",
    "        niter=5,\n",
    "        min_level=[2, 2, 2, 3, 4],\n",
    "        max_level=[2, 3, 3, 3, 4],\n",
    "        output_dir=\"output\",\n",
    "        log_filename=None,\n",
    "        name_mapfile=\"lmps2type.map\",\n",
    "    )\n",
    "aa2cg.run()"
   ]
  },
  {
   "cell_type": "code",
   "execution_count": null,
   "metadata": {},
   "outputs": [],
   "source": []
  },
  {
   "cell_type": "code",
   "execution_count": null,
   "metadata": {},
   "outputs": [],
   "source": []
  },
  {
   "cell_type": "code",
   "execution_count": null,
   "metadata": {},
   "outputs": [],
   "source": []
  }
 ],
 "metadata": {
  "kernelspec": {
   "display_name": "gbcg3-iI_vRHtn-py3.9",
   "language": "python",
   "name": "python3"
  },
  "language_info": {
   "codemirror_mode": {
    "name": "ipython",
    "version": 3
   },
   "file_extension": ".py",
   "mimetype": "text/x-python",
   "name": "python",
   "nbconvert_exporter": "python",
   "pygments_lexer": "ipython3",
   "version": "3.9.17"
  },
  "orig_nbformat": 4
 },
 "nbformat": 4,
 "nbformat_minor": 2
}
