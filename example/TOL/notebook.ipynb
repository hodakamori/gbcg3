{
 "cells": [
  {
   "cell_type": "code",
   "execution_count": 3,
   "metadata": {},
   "outputs": [],
   "source": [
    "from gbcg3 import AA2CG"
   ]
  },
  {
   "cell_type": "code",
   "execution_count": 4,
   "metadata": {},
   "outputs": [
    {
     "name": "stderr",
     "output_type": "stream",
     "text": [
      "2023-07-21 12:36:15 [INFO] cgmapping.py:41 - Screening files\n",
      "2023-07-21 12:36:15 [INFO] data.py:11 - # Extracting masses from sys.data ...\n",
      "2023-07-21 12:36:15 [INFO] data.py:17 - # A total of 4 atom types reported!!!\n",
      "2023-07-21 12:36:15 [INFO] data.py:24 - # Masses field found and recorded! Breaking from file...\n",
      "2023-07-21 12:36:15 [INFO] data.py:35 - # Extracting topology from sys.data ...\n",
      "2023-07-21 12:36:16 [INFO] data.py:41 - # A total of 3240 bonds reported!!!\n",
      "2023-07-21 12:36:16 [INFO] data.py:50 - # Bonds field found and recorded! Breaking from file...\n",
      "2023-07-21 12:36:16 [INFO] lammps.py:25 - # Total number of atoms to be assigned: 15\n",
      "2023-07-21 12:36:16 [INFO] lammps.py:46 - # Total number of molecules: 1\n",
      "2023-07-21 12:36:16 [INFO] lammps.py:51 - #---Number of atoms in mol 0: 15\n",
      "2023-07-21 12:36:16 [INFO] gbcg.py:93 - Reduction Summary for molecule 0\n",
      "\n",
      "\n",
      "2023-07-21 12:36:16 [INFO] core.py:569 - Initial Number of atoms: 15\n",
      "2023-07-21 12:36:16 [INFO] core.py:570 - # Beginning coarse-graining of molecule with 15 atoms\n",
      "2023-07-21 12:36:16 [INFO] core.py:596 - # Initial contraction of 8 atoms into 7 remaining groups\n",
      "2023-07-21 12:36:16 [INFO] core.py:601 - Initial contraction consists of 8 into 7 groups\n",
      "\n",
      "2023-07-21 12:36:16 [INFO] core.py:624 - Iteration 1\n",
      "2023-07-21 12:36:16 [INFO] core.py:625 - Reduction Round 1.\n",
      "2023-07-21 12:36:16 [INFO] core.py:626 - Initial number of groups: 7\n",
      "2023-07-21 12:36:16 [INFO] core.py:624 - Iteration 2\n",
      "2023-07-21 12:36:16 [INFO] core.py:625 - Reduction Round 2.\n",
      "2023-07-21 12:36:16 [INFO] core.py:626 - Initial number of groups: 4\n",
      "2023-07-21 12:36:16 [INFO] core.py:624 - Iteration 3\n",
      "2023-07-21 12:36:16 [INFO] core.py:625 - Reduction Round 3.\n",
      "2023-07-21 12:36:16 [INFO] core.py:626 - Initial number of groups: 2\n",
      "2023-07-21 12:36:16 [INFO] gbcg.py:112 - Assigning preliminary CG site types\n",
      "2023-07-21 12:36:16 [INFO] gbcg.py:133 - Mapping supplied trajectories\n",
      "2023-07-21 12:36:16 [INFO] gbcg.py:140 - Mapping supplied trajectories\n",
      "2023-07-21 12:36:16 [INFO] cgmapping.py:73 - Wrapping up...\n"
     ]
    },
    {
     "name": "stdout",
     "output_type": "stream",
     "text": [
      "spectral\n",
      "# The total charge in the CG system is 0.0\n",
      "# Subtracting residual of 0.0 to neutralize...\n",
      "# Now total system charge is 0.0\n"
     ]
    }
   ],
   "source": [
    "aa2cg = AA2CG(\n",
    "        traj=[\"toluene.lammpstrj\"],\n",
    "        data=\"sys.data\",\n",
    "        niter=3,\n",
    "        output_dir=\"output\",\n",
    "        log_filename=None,\n",
    "        name_mapfile=\"lmps2type.map\",\n",
    "        weight_style=\"mass\",\n",
    "        mode=\"spectral\",\n",
    "    )\n",
    "aa2cg.run()"
   ]
  },
  {
   "cell_type": "code",
   "execution_count": null,
   "metadata": {},
   "outputs": [],
   "source": []
  },
  {
   "cell_type": "code",
   "execution_count": null,
   "metadata": {},
   "outputs": [],
   "source": []
  }
 ],
 "metadata": {
  "kernelspec": {
   "display_name": "gbcg3-iI_vRHtn-py3.9",
   "language": "python",
   "name": "python3"
  },
  "language_info": {
   "codemirror_mode": {
    "name": "ipython",
    "version": 3
   },
   "file_extension": ".py",
   "mimetype": "text/x-python",
   "name": "python",
   "nbconvert_exporter": "python",
   "pygments_lexer": "ipython3",
   "version": "3.9.17"
  },
  "orig_nbformat": 4
 },
 "nbformat": 4,
 "nbformat_minor": 2
}
