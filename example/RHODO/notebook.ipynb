{
 "cells": [
  {
   "cell_type": "code",
   "execution_count": 1,
   "metadata": {},
   "outputs": [],
   "source": [
    "from gbcg3 import AA2CG"
   ]
  },
  {
   "cell_type": "code",
   "execution_count": 3,
   "metadata": {},
   "outputs": [
    {
     "name": "stderr",
     "output_type": "stream",
     "text": [
      "2023-07-23 23:19:04 [INFO] cgmapping.py:41 - Screening files\n",
      "2023-07-23 23:19:04 [INFO] data.py:11 - # Extracting masses from sys.data ...\n",
      "2023-07-23 23:19:04 [INFO] data.py:17 - # A total of 68 atom types reported!!!\n",
      "2023-07-23 23:19:04 [INFO] data.py:24 - # Masses field found and recorded! Breaking from file...\n",
      "2023-07-23 23:19:04 [INFO] data.py:35 - # Extracting topology from sys.data ...\n",
      "2023-07-23 23:19:04 [INFO] data.py:41 - # A total of 5587 bonds reported!!!\n",
      "2023-07-23 23:19:04 [INFO] data.py:50 - # Bonds field found and recorded! Breaking from file...\n",
      "2023-07-23 23:19:04 [INFO] lammps.py:25 - # Total number of atoms to be assigned: 5501\n",
      "2023-07-23 23:19:04 [INFO] lammps.py:46 - # Total number of molecules: 1\n",
      "2023-07-23 23:19:04 [INFO] lammps.py:51 - #---Number of atoms in mol 0: 5501\n",
      "2023-07-23 23:19:04 [INFO] gbcg.py:93 - Reduction Summary for molecule 0\n",
      "\n",
      "\n",
      "2023-07-23 23:19:04 [INFO] core.py:569 - Initial Number of atoms: 5501\n",
      "2023-07-23 23:19:04 [INFO] core.py:570 - # Beginning coarse-graining of molecule with 5501 atoms\n",
      "2023-07-23 23:19:04 [INFO] core.py:596 - # Initial contraction of 2741 atoms into 2760 remaining groups\n",
      "2023-07-23 23:19:04 [INFO] core.py:601 - Initial contraction consists of 2741 into 2760 groups\n",
      "\n",
      "2023-07-23 23:19:05 [INFO] core.py:692 - Iteration 1\n",
      "2023-07-23 23:19:05 [INFO] core.py:693 - Reduction Round 1\n",
      "2023-07-23 23:19:05 [INFO] core.py:694 - Initial number of groups: 2760\n"
     ]
    },
    {
     "name": "stdout",
     "output_type": "stream",
     "text": [
      "None\n"
     ]
    },
    {
     "name": "stderr",
     "output_type": "stream",
     "text": [
      "2023-07-23 23:19:17 [INFO] core.py:742 - # Queue is exhausted and vertex groups formed...\n",
      "2023-07-23 23:19:17 [INFO] core.py:743 - # There are currently 1348 vertex groups...\n",
      "2023-07-23 23:19:17 [INFO] core.py:744 - Reduction at level 0 --> 1348 groups\n",
      "2023-07-23 23:19:17 [INFO] core.py:692 - Iteration 2\n",
      "2023-07-23 23:19:17 [INFO] core.py:693 - Reduction Round 2\n",
      "2023-07-23 23:19:17 [INFO] core.py:694 - Initial number of groups: 1348\n"
     ]
    },
    {
     "name": "stdout",
     "output_type": "stream",
     "text": [
      "None\n"
     ]
    },
    {
     "name": "stderr",
     "output_type": "stream",
     "text": [
      "2023-07-23 23:19:27 [INFO] core.py:742 - # Queue is exhausted and vertex groups formed...\n",
      "2023-07-23 23:19:27 [INFO] core.py:743 - # There are currently 711 vertex groups...\n",
      "2023-07-23 23:19:27 [INFO] core.py:744 - Reduction at level 1 --> 711 groups\n",
      "2023-07-23 23:19:27 [INFO] core.py:692 - Iteration 3\n",
      "2023-07-23 23:19:27 [INFO] core.py:693 - Reduction Round 3\n",
      "2023-07-23 23:19:27 [INFO] core.py:694 - Initial number of groups: 711\n"
     ]
    },
    {
     "name": "stdout",
     "output_type": "stream",
     "text": [
      "None\n"
     ]
    },
    {
     "name": "stderr",
     "output_type": "stream",
     "text": [
      "2023-07-23 23:19:29 [INFO] core.py:742 - # Queue is exhausted and vertex groups formed...\n",
      "2023-07-23 23:19:29 [INFO] core.py:743 - # There are currently 385 vertex groups...\n",
      "2023-07-23 23:19:29 [INFO] core.py:744 - Reduction at level 2 --> 385 groups\n",
      "2023-07-23 23:19:29 [INFO] core.py:692 - Iteration 4\n",
      "2023-07-23 23:19:29 [INFO] core.py:693 - Reduction Round 4\n",
      "2023-07-23 23:19:29 [INFO] core.py:694 - Initial number of groups: 385\n",
      "2023-07-23 23:19:29 [INFO] core.py:742 - # Queue is exhausted and vertex groups formed...\n",
      "2023-07-23 23:19:29 [INFO] core.py:743 - # There are currently 196 vertex groups...\n",
      "2023-07-23 23:19:29 [INFO] core.py:744 - Reduction at level 3 --> 196 groups\n"
     ]
    },
    {
     "name": "stdout",
     "output_type": "stream",
     "text": [
      "None\n"
     ]
    },
    {
     "name": "stderr",
     "output_type": "stream",
     "text": [
      "2023-07-23 23:19:29 [INFO] gbcg.py:114 - Assigning preliminary CG site types\n",
      "2023-07-23 23:19:30 [INFO] gbcg.py:135 - Mapping supplied trajectories\n",
      "2023-07-23 23:19:30 [INFO] gbcg.py:142 - Mapping supplied trajectories\n",
      "2023-07-23 23:19:32 [INFO] cgmapping.py:73 - Wrapping up...\n"
     ]
    },
    {
     "name": "stdout",
     "output_type": "stream",
     "text": [
      "# The total charge in the CG system is 0.0\n",
      "# Subtracting residual of 0.0 to neutralize...\n",
      "# Now total system charge is 0.0\n"
     ]
    }
   ],
   "source": [
    "aa2cg = AA2CG(\n",
    "        traj=[\"rhodo.lammpstrj\"],\n",
    "        data=\"sys.data\",\n",
    "        niter=4,\n",
    "        output_dir=\"output\",\n",
    "        log_filename=None,\n",
    "        name_mapfile=\"lmps2type.map\",\n",
    "        weight_style=None,\n",
    "        mode=\"spectral\",\n",
    "    )\n",
    "aa2cg.run()"
   ]
  },
  {
   "cell_type": "code",
   "execution_count": null,
   "metadata": {},
   "outputs": [],
   "source": []
  }
 ],
 "metadata": {
  "kernelspec": {
   "display_name": "gbcg3-iI_vRHtn-py3.9",
   "language": "python",
   "name": "python3"
  },
  "language_info": {
   "codemirror_mode": {
    "name": "ipython",
    "version": 3
   },
   "file_extension": ".py",
   "mimetype": "text/x-python",
   "name": "python",
   "nbconvert_exporter": "python",
   "pygments_lexer": "ipython3",
   "version": "3.9.17"
  },
  "orig_nbformat": 4
 },
 "nbformat": 4,
 "nbformat_minor": 2
}
